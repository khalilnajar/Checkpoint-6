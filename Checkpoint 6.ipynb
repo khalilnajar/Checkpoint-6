{
 "cells": [
  {
   "cell_type": "markdown",
   "id": "d926652f",
   "metadata": {},
   "source": [
    "Question 1:"
   ]
  },
  {
   "cell_type": "code",
   "execution_count": 14,
   "id": "06877610",
   "metadata": {},
   "outputs": [
    {
     "name": "stdout",
     "output_type": "stream",
     "text": [
      "[1, 3, 5, 3, 7, 1, 9, 3]\n"
     ]
    }
   ],
   "source": [
    "from array import *\n",
    "array_num = array('i', [1, 3, 5, 3, 7, 1, 9, 3])\n",
    "num_list = array_num.tolist()\n",
    "print(num_list)"
   ]
  },
  {
   "cell_type": "markdown",
   "id": "61011db9",
   "metadata": {},
   "source": [
    "Question 2:"
   ]
  },
  {
   "cell_type": "code",
   "execution_count": 15,
   "id": "e8ce9b0d",
   "metadata": {},
   "outputs": [
    {
     "name": "stdout",
     "output_type": "stream",
     "text": [
      "4\n"
     ]
    }
   ],
   "source": [
    "import numpy as np\n",
    "m = np.arange(6).reshape(2,3)\n",
    "result =  np.trace(m)\n",
    "print(result)"
   ]
  },
  {
   "cell_type": "markdown",
   "id": "719a7a81",
   "metadata": {},
   "source": [
    "Question 3:"
   ]
  },
  {
   "cell_type": "code",
   "execution_count": 20,
   "id": "71514395",
   "metadata": {},
   "outputs": [
    {
     "name": "stdout",
     "output_type": "stream",
     "text": [
      "Values bigger than 2 = [3 5]\n"
     ]
    }
   ],
   "source": [
    "import numpy as np\n",
    "x = np.array([[[1,2],[3,5]]])\n",
    "print(\"Values bigger than 2 =\", x[x>2])"
   ]
  },
  {
   "cell_type": "markdown",
   "id": "4e08a112",
   "metadata": {},
   "source": [
    "Question 4:"
   ]
  },
  {
   "cell_type": "code",
   "execution_count": 1,
   "id": "5db5b45d",
   "metadata": {},
   "outputs": [
    {
     "name": "stdout",
     "output_type": "stream",
     "text": [
      "[[3 4]\n",
      " [4 4]\n",
      " [4 5]]\n"
     ]
    }
   ],
   "source": [
    "import numpy as np\n",
    "\n",
    "A = np.array([[1, 1], [1, 2], [3, 1]])\n",
    "B = np.array([[2, 3], [3, 2], [1, 4]])\n",
    "C= A+B\n",
    "print(C)"
   ]
  },
  {
   "cell_type": "markdown",
   "id": "a640a472",
   "metadata": {},
   "source": [
    "Question 5:"
   ]
  },
  {
   "cell_type": "code",
   "execution_count": 3,
   "id": "b35c0e67",
   "metadata": {},
   "outputs": [
    {
     "name": "stdout",
     "output_type": "stream",
     "text": [
      "1.5\n",
      "4.0\n",
      "7.5\n"
     ]
    }
   ],
   "source": [
    "def mean(a):\n",
    "    variable=np.shape(a)\n",
    "    n=variable[0]\n",
    "    m=variable[1]\n",
    "    S=0\n",
    "    for i in range(n):\n",
    "            for j in range(m): \n",
    "                S += a[i,j]\n",
    "            Mean = S / m \n",
    "            print(Mean)\n",
    "            S=0\n",
    "                    \n",
    "a = np.array([[1,2],[3,5],[7,8]])\n",
    "mean(a)"
   ]
  }
 ],
 "metadata": {
  "kernelspec": {
   "display_name": "Python 3",
   "language": "python",
   "name": "python3"
  },
  "language_info": {
   "codemirror_mode": {
    "name": "ipython",
    "version": 3
   },
   "file_extension": ".py",
   "mimetype": "text/x-python",
   "name": "python",
   "nbconvert_exporter": "python",
   "pygments_lexer": "ipython3",
   "version": "3.8.8"
  }
 },
 "nbformat": 4,
 "nbformat_minor": 5
}
